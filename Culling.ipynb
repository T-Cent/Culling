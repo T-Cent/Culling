{
  "nbformat": 4,
  "nbformat_minor": 0,
  "metadata": {
    "colab": {
      "provenance": [],
      "mount_file_id": "133gBcoAToW7MHBpqqgYE3AMl7Q__KW4L",
      "authorship_tag": "ABX9TyMD/bZR0TpGCBpeUSA40sJD",
      "include_colab_link": true
    },
    "kernelspec": {
      "name": "python3",
      "display_name": "Python 3"
    },
    "language_info": {
      "name": "python"
    }
  },
  "cells": [
    {
      "cell_type": "markdown",
      "metadata": {
        "id": "view-in-github",
        "colab_type": "text"
      },
      "source": [
        "<a href=\"https://colab.research.google.com/github/T-Cent/culling/blob/main/Culling.ipynb\" target=\"_parent\"><img src=\"https://colab.research.google.com/assets/colab-badge.svg\" alt=\"Open In Colab\"/></a>"
      ]
    },
    {
      "cell_type": "code",
      "execution_count": 15,
      "metadata": {
        "id": "d7unG55824uX"
      },
      "outputs": [],
      "source": [
        "#!wget https://mandrillapp.com/track/click/31045195/dxomark.com?p=eyJzIjoiUDU4TUUyMFdzM2ZETzhXWUwzVXJNUXlMalpVIiwidiI6MSwicCI6IntcInVcIjozMTA0NTE5NSxcInZcIjoxLFwidXJsXCI6XCJodHRwczpcXFwvXFxcL2R4b21hcmsuY29tXFxcL2Rha2RhdGFcXFwvZGF0YXNldFxcXC9sTjRsU1R2eS0tLXFBVHB1cG1nSi0tLXhKZWpMSURCV04tLS1ENUczZ01SZ2I3Z2Y0PVwiLFwiaWRcIjpcIjIzZmYwMTExODlmYTRlNmQ4ZDI3NTY0MTIyZWNlODA5XCIsXCJ1cmxfaWRzXCI6W1wiZWRiMTdkMWY2ZjgxMTQxM2UxNDRlNGMwMmVmM2NhMzQyZDQ5OWVlOVwiXX0ifQ"
      ]
    },
    {
      "cell_type": "code",
      "source": [
        "#!unzip /content/dxomark.com?p=eyJzIjoiUDU4TUUyMFdzM2ZETzhXWUwzVXJNUXlMalpVIiwidiI6MSwicCI6IntcInVcIjozMTA0NTE5NSxcInZcIjoxLFwidXJsXCI6XCJodHRwczpcXFwvXFxcL2R4b21hcmsuY29tXFxcL2Rha2RhdGFcXFwvZGF0YXNldFxcXC9sTjRsU1R2eS0tLXFBVHB1cG1nSi0tLXhKZWpMSURCV04tLS -d /content/drive/MyDrive/Culling"
      ],
      "metadata": {
        "id": "QfFl6hIH3K0i"
      },
      "execution_count": 14,
      "outputs": []
    }
  ]
}