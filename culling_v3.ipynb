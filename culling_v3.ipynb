{
  "nbformat": 4,
  "nbformat_minor": 0,
  "metadata": {
    "colab": {
      "provenance": [],
      "gpuType": "T4"
    },
    "kernelspec": {
      "name": "python3",
      "display_name": "Python 3"
    },
    "language_info": {
      "name": "python"
    },
    "accelerator": "GPU"
  },
  "cells": [
    {
      "cell_type": "code",
      "source": [
        "import torch\n",
        "import torch.nn as nn\n",
        "import torch.optim as optim\n",
        "from torch.optim import lr_scheduler\n",
        "import torch.backends.cudnn as cudnn\n",
        "import numpy as np\n",
        "import torchvision\n",
        "from torchvision import datasets, models, transforms\n",
        "import matplotlib.pyplot as plt\n",
        "import time\n",
        "import os\n",
        "from tempfile import TemporaryDirectory\n",
        "from PIL import Image\n",
        "import imageio\n",
        "import imgaug as ia\n",
        "from imgaug import augmenters as iaa\n",
        "import random\n",
        "import glob\n",
        "import pandas as pd\n",
        "import requests\n",
        "\n",
        "cudnn.benchmark = True\n",
        "plt.ion()\n",
        "%matplotlib inline"
      ],
      "metadata": {
        "id": "pFvzWWnQMqWX"
      },
      "execution_count": 5,
      "outputs": []
    },
    {
      "cell_type": "markdown",
      "source": [
        "#Setting up images\n",
        "\n",
        "using augmetation on images found in the unsplash dataset and saving them in their respective folder"
      ],
      "metadata": {
        "id": "tmo83UW8KTpk"
      }
    },
    {
      "cell_type": "code",
      "source": [
        "!wget https://unsplash.com/data/lite/latest"
      ],
      "metadata": {
        "colab": {
          "base_uri": "https://localhost:8080/"
        },
        "id": "bgZNG9M1x0tk",
        "outputId": "dc74afa0-c6a1-4fa9-fa98-ca45b7c9aea9"
      },
      "execution_count": 3,
      "outputs": [
        {
          "output_type": "stream",
          "name": "stdout",
          "text": [
            "--2024-05-25 14:55:05--  https://unsplash.com/data/lite/latest\n",
            "Resolving unsplash.com (unsplash.com)... 151.101.1.181, 151.101.193.181, 151.101.65.181, ...\n",
            "Connecting to unsplash.com (unsplash.com)|151.101.1.181|:443... connected.\n",
            "HTTP request sent, awaiting response... 302 Found\n",
            "Location: https://unsplash-datasets.s3.amazonaws.com/lite/latest/unsplash-research-dataset-lite-latest.zip [following]\n",
            "--2024-05-25 14:55:06--  https://unsplash-datasets.s3.amazonaws.com/lite/latest/unsplash-research-dataset-lite-latest.zip\n",
            "Resolving unsplash-datasets.s3.amazonaws.com (unsplash-datasets.s3.amazonaws.com)... 52.216.152.28, 16.182.103.145, 3.5.28.166, ...\n",
            "Connecting to unsplash-datasets.s3.amazonaws.com (unsplash-datasets.s3.amazonaws.com)|52.216.152.28|:443... connected.\n",
            "HTTP request sent, awaiting response... 200 OK\n",
            "Length: 494063166 (471M) [application/zip]\n",
            "Saving to: ‘latest’\n",
            "\n",
            "latest                0%[                    ] 109.49K   170KB/s               ^C\n"
          ]
        }
      ]
    },
    {
      "cell_type": "code",
      "source": [
        "!unzip \"/content/latest\" -d \"/content/drive/MyDrive/Culling/Unsplash_Dataset\""
      ],
      "metadata": {
        "colab": {
          "base_uri": "https://localhost:8080/"
        },
        "id": "tvPWaZlfyP-Y",
        "outputId": "a21002fc-2b23-42e9-8324-1c603c4e3bb1"
      },
      "execution_count": 2,
      "outputs": [
        {
          "output_type": "stream",
          "name": "stdout",
          "text": [
            "Archive:  /content/latest\n",
            "  inflating: /content/drive/MyDrive/Culling/Unsplash_Dataset/collections.tsv000  \n",
            "  inflating: /content/drive/MyDrive/Culling/Unsplash_Dataset/__MACOSX/._collections.tsv000  \n",
            "  inflating: /content/drive/MyDrive/Culling/Unsplash_Dataset/colors.tsv000  \n",
            "  inflating: /content/drive/MyDrive/Culling/Unsplash_Dataset/__MACOSX/._colors.tsv000  \n",
            "  inflating: /content/drive/MyDrive/Culling/Unsplash_Dataset/conversions.tsv000  \n",
            "  inflating: /content/drive/MyDrive/Culling/Unsplash_Dataset/__MACOSX/._conversions.tsv000  \n",
            "  inflating: /content/drive/MyDrive/Culling/Unsplash_Dataset/DOCS.md  \n",
            "  inflating: /content/drive/MyDrive/Culling/Unsplash_Dataset/keywords.tsv000  \n",
            "  inflating: /content/drive/MyDrive/Culling/Unsplash_Dataset/__MACOSX/._keywords.tsv000  \n",
            "  inflating: /content/drive/MyDrive/Culling/Unsplash_Dataset/photos.tsv000  \n",
            "  inflating: /content/drive/MyDrive/Culling/Unsplash_Dataset/__MACOSX/._photos.tsv000  \n",
            "  inflating: /content/drive/MyDrive/Culling/Unsplash_Dataset/README.md  \n",
            "  inflating: /content/drive/MyDrive/Culling/Unsplash_Dataset/TERMS.md  \n"
          ]
        }
      ]
    },
    {
      "cell_type": "code",
      "source": [
        "path = '/content/drive/MyDrive/Culling/Unsplash_Dataset/'\n",
        "documents = ['photos', 'keywords', 'collections', 'conversions', 'colors']\n",
        "unsplash_dataset = {}\n",
        "\n",
        "for doc in documents:\n",
        "  files = glob.glob(path + doc + \".tsv*\")\n",
        "\n",
        "  subsets = []\n",
        "  for filename in files:\n",
        "    df = pd.read_csv(filename, sep='\\t', header=0)\n",
        "    subsets.append(df)\n",
        "\n",
        "  unsplash_dataset[doc] = pd.concat(subsets, axis=0, ignore_index=True)"
      ],
      "metadata": {
        "id": "3Fwfcg3cy_UG"
      },
      "execution_count": 25,
      "outputs": []
    },
    {
      "cell_type": "code",
      "source": [
        "unsplash_dataset[\"photos\"][\"photo_image_url\"].head()"
      ],
      "metadata": {
        "colab": {
          "base_uri": "https://localhost:8080/"
        },
        "id": "d88LvYk8zWVF",
        "outputId": "cefbf73b-bae6-4bf8-fb81-d6c215575262"
      },
      "execution_count": 26,
      "outputs": [
        {
          "output_type": "execute_result",
          "data": {
            "text/plain": [
              "0    https://images.unsplash.com/uploads/1413387620...\n",
              "1    https://images.unsplash.com/reserve/jEs6K0y1Sb...\n",
              "2    https://images.unsplash.com/uploads/1412192004...\n",
              "3    https://images.unsplash.com/reserve/ijl3tATFRp...\n",
              "4    https://images.unsplash.com/reserve/6vaWXsQuSW...\n",
              "Name: photo_image_url, dtype: object"
            ]
          },
          "metadata": {},
          "execution_count": 26
        }
      ]
    },
    {
      "cell_type": "code",
      "source": [
        "for i, url in enumerate(unsplash_dataset[\"photos\"][\"photo_image_url\"]):\n",
        "  try:\n",
        "    image = Image.open(requests.get(url, stream=True).raw)\n",
        "    image.save(\"/content/drive/MyDrive/Culling/Unsplash_Dataset/Unsplash_Images/unsplash\" + str(i) + \".jpg\")\n",
        "  except:\n",
        "    continue"
      ],
      "metadata": {
        "colab": {
          "base_uri": "https://localhost:8080/"
        },
        "id": "iO4eGMhaz-I8",
        "outputId": "3f12048b-0ca0-4d6f-9f89-d1fc1f260dff"
      },
      "execution_count": null,
      "outputs": [
        {
          "output_type": "stream",
          "name": "stderr",
          "text": [
            "/usr/local/lib/python3.10/dist-packages/PIL/Image.py:3167: DecompressionBombWarning: Image size (121554000 pixels) exceeds limit of 89478485 pixels, could be decompression bomb DOS attack.\n",
            "  warnings.warn(\n"
          ]
        }
      ]
    },
    {
      "cell_type": "code",
      "source": [
        "num_img = len(os.listdir(\"/content/drive/MyDrive/Culling/Unsplash_Dataset/Unsplash_Images\"))\n",
        "num_img"
      ],
      "metadata": {
        "colab": {
          "base_uri": "https://localhost:8080/"
        },
        "id": "QGJj3sI7MOt4",
        "outputId": "4cf71bfa-9fbc-4f35-ac4d-4a4db1f92104"
      },
      "execution_count": 5,
      "outputs": [
        {
          "output_type": "execute_result",
          "data": {
            "text/plain": [
              "1756"
            ]
          },
          "metadata": {},
          "execution_count": 5
        }
      ]
    },
    {
      "cell_type": "code",
      "source": [
        "data_dir = \"/content/drive/MyDrive/Culling/Unsplash_Dataset/Unsplash_Images/\"\n",
        "filenames = [data_dir + f for f in os.listdir(\"/content/drive/MyDrive/Culling/Unsplash_Dataset/Unsplash_Images\")]\n",
        "for_training = random.sample(filenames, k=int(num_img*0.8)) #80-20 split\n",
        "for_testing = [f for f in filenames if f not in for_training]\n",
        "num_training, num_testing = len(for_training), len(for_testing)\n",
        "num_training, num_testing"
      ],
      "metadata": {
        "colab": {
          "base_uri": "https://localhost:8080/"
        },
        "id": "QNtc2kzTMzcT",
        "outputId": "b5112558-fe47-4f65-d66e-eecc30461aeb"
      },
      "execution_count": 6,
      "outputs": [
        {
          "output_type": "execute_result",
          "data": {
            "text/plain": [
              "(1404, 352)"
            ]
          },
          "metadata": {},
          "execution_count": 6
        }
      ]
    },
    {
      "cell_type": "code",
      "source": [
        "training_noisy = random.sample(for_training, k=int(num_training*0.25))\n",
        "training_blurred = random.sample(for_training, k=int(num_training*0.25))\n",
        "training_exposed = random.sample(for_training, k=int(num_training*0.25))\n",
        "training_good = random.sample(for_training, k=int(num_training*0.25))\n",
        "\n",
        "testing_noisy = random.sample(for_testing, k=int(num_testing*0.25))\n",
        "testing_blurred = random.sample(for_testing, k=int(num_testing*0.25))\n",
        "testing_exposed = random.sample(for_testing, k=int(num_testing*0.25))\n",
        "testing_good = random.sample(for_testing, k=int(num_testing*0.25))"
      ],
      "metadata": {
        "id": "Q29d8z6TN7jN"
      },
      "execution_count": 7,
      "outputs": []
    },
    {
      "cell_type": "code",
      "source": [
        "blur_sequence = iaa.Sequential([\n",
        "    iaa.GaussianBlur(sigma=(14, 30)),\n",
        "    iaa.Sometimes(0.6, iaa.MotionBlur(k=(3, 4), angle=[-180, 180])),\n",
        "], random_order=True)\n",
        "\n",
        "noise_sequence = iaa.Sequential([\n",
        "    iaa.AddElementwise((-40, 40)),\n",
        "    iaa.Sometimes(0.9, iaa.AdditiveGaussianNoise(scale=(10, 15))),\n",
        "    iaa.Sometimes(0.1, iaa.AdditiveGaussianNoise(scale=(10, 50), per_channel=True))\n",
        "], random_order=True)\n",
        "\n",
        "exposure_sequence = iaa.Sometimes(0.5, then_list=iaa.Multiply((0.2, 0.5)), else_list=iaa.Multiply((1.6, 1.9)))"
      ],
      "metadata": {
        "id": "76TSAz4hPELM"
      },
      "execution_count": 8,
      "outputs": []
    },
    {
      "cell_type": "code",
      "source": [
        "test = imageio.imread(training_blurred[10])\n",
        "test = blur_sequence(image=test)\n",
        "plt.imshow(test)"
      ],
      "metadata": {
        "colab": {
          "base_uri": "https://localhost:8080/",
          "height": 507
        },
        "id": "ZwtVL01vSD2O",
        "outputId": "bbce21be-87be-45fb-cf68-ed96dd7fdaa0"
      },
      "execution_count": 9,
      "outputs": [
        {
          "output_type": "stream",
          "name": "stderr",
          "text": [
            "<ipython-input-9-d4932967b933>:1: DeprecationWarning: Starting with ImageIO v3 the behavior of this function will switch to that of iio.v3.imread. To keep the current behavior (and make this warning disappear) use `import imageio.v2 as imageio` or call `imageio.v2.imread` directly.\n",
            "  test = imageio.imread(training_blurred[10])\n"
          ]
        },
        {
          "output_type": "execute_result",
          "data": {
            "text/plain": [
              "<matplotlib.image.AxesImage at 0x7bcc1f01fbe0>"
            ]
          },
          "metadata": {},
          "execution_count": 9
        },
        {
          "output_type": "display_data",
          "data": {
            "text/plain": [
              "<Figure size 640x480 with 1 Axes>"
            ],
            "image/png": "[encoded data removed]"
          },
          "metadata": {}
        }
      ]
    },
    {
      "cell_type": "code",
      "source": [
        "augmentors = {\n",
        "    \"blurry\": blur_sequence,\n",
        "    \"noisy\": noise_sequence,\n",
        "    \"exposed\": exposure_sequence\n",
        "}\n",
        "\n",
        "save_dir = \"/content/drive/MyDrive/Culling/dataset_v4/\"\n",
        "\n",
        "def save_images(image: str, aug: str = \"good\", im_type: str = \"train\", suffix: int = 0):\n",
        "  x = save_dir + im_type + \"/\" + aug + \"/\"\n",
        "  img = imageio.imread(image)\n",
        "  if aug != \"good\":\n",
        "    augmentor = augmentors[aug]\n",
        "    img = augmentor(image=img)\n",
        "  imageio.imwrite(x+aug+str(suffix)+\"_v2.png\", img)"
      ],
      "metadata": {
        "id": "cODmGMTuSip4"
      },
      "execution_count": 10,
      "outputs": []
    },
    {
      "cell_type": "markdown",
      "source": [
        "saving and manipulating all images"
      ],
      "metadata": {
        "id": "mEUy9FsnZwSZ"
      }
    },
    {
      "cell_type": "code",
      "source": [
        "len(training_noisy)"
      ],
      "metadata": {
        "colab": {
          "base_uri": "https://localhost:8080/"
        },
        "id": "Ch9lIHivNrOT",
        "outputId": "d439269b-6669-4756-b371-50033477a084"
      },
      "execution_count": 11,
      "outputs": [
        {
          "output_type": "execute_result",
          "data": {
            "text/plain": [
              "351"
            ]
          },
          "metadata": {},
          "execution_count": 11
        }
      ]
    },
    {
      "cell_type": "code",
      "source": [
        "for i, f in enumerate(training_blurred):\n",
        "  if i > 80:\n",
        "    break\n",
        "  save_images(f, \"blurry\", \"train\", i)\n",
        "for i, f in enumerate(training_noisy):\n",
        "  if i > 80:\n",
        "    break\n",
        "  save_images(f, \"noisy\", \"train\", i)\n",
        "for i, f in enumerate(training_exposed):\n",
        "  if i > 80:\n",
        "    break\n",
        "  save_images(f, \"exposed\", \"train\", i)\n",
        "for i, f in enumerate(training_good):\n",
        "  if i > 80:\n",
        "    break\n",
        "  save_images(f, \"good\", \"train\", i)\n",
        "\n",
        "for i, f in enumerate(testing_blurred):\n",
        "  if i > 80:\n",
        "    break\n",
        "  save_images(f, \"blurry\", \"test\", i)\n",
        "for i, f in enumerate(testing_noisy):\n",
        "  if i > 80:\n",
        "    break\n",
        "  save_images(f, \"noisy\", \"test\", i)\n",
        "for i, f in enumerate(testing_exposed):\n",
        "  if i > 80:\n",
        "    break\n",
        "  save_images(f, \"exposed\", \"test\", i)\n",
        "for i, f in enumerate(testing_good):\n",
        "  if i > 80:\n",
        "    break\n",
        "  save_images(f, \"good\", \"test\", i)"
      ],
      "metadata": {
        "colab": {
          "base_uri": "https://localhost:8080/"
        },
        "id": "EqehHiLjZfLF",
        "outputId": "69ae3da0-d78f-4265-f9bb-2c9505b9de36"
      },
      "execution_count": 12,
      "outputs": [
        {
          "output_type": "stream",
          "name": "stderr",
          "text": [
            "<ipython-input-10-a63fe7756a31>:11: DeprecationWarning: Starting with ImageIO v3 the behavior of this function will switch to that of iio.v3.imread. To keep the current behavior (and make this warning disappear) use `import imageio.v2 as imageio` or call `imageio.v2.imread` directly.\n",
            "  img = imageio.imread(image)\n"
          ]
        }
      ]
    },
    {
      "cell_type": "markdown",
      "source": [
        "#Copying Learning!\n",
        "\n",
        "training a model via transfer learning, following the tutorial on the pytorch website - https://pytorch.org/tutorials/beginner/transfer_learning_tutorial.html"
      ],
      "metadata": {
        "id": "kkWqIFScZxDs"
      }
    },
    {
      "cell_type": "code",
      "source": [
        "data_transforms = {\n",
        "    'train': transforms.Compose([\n",
        "        transforms.RandomResizedCrop(224),\n",
        "        transforms.RandomHorizontalFlip(),\n",
        "        transforms.ToTensor(),\n",
        "        transforms.Normalize([0.485, 0.456, 0.406], [0.229, 0.224, 0.225])\n",
        "    ]),\n",
        "    'test': transforms.Compose([\n",
        "        transforms.Resize(256),\n",
        "        transforms.CenterCrop(224),\n",
        "        transforms.ToTensor(),\n",
        "        transforms.Normalize([0.485, 0.456, 0.406], [0.229, 0.224, 0.225])\n",
        "    ]),\n",
        "}\n",
        "\n",
        "data_dir = \"/content/drive/MyDrive/Culling/dataset_v4\"\n",
        "\n",
        "image_datasets = {x: datasets.ImageFolder(os.path.join(data_dir, x), data_transforms[x])\n",
        "                  for x in ['train', 'test']}\n",
        "\n",
        "dataloaders = {x: torch.utils.data.DataLoader(image_datasets[x], batch_size=4, shuffle=True)\n",
        "              for x in ['train', 'test']}\n",
        "\n",
        "dataset_sizes = {x: len(image_datasets[x]) for x in ['train', 'test']}\n",
        "\n",
        "class_names = image_datasets['train'].classes\n",
        "\n",
        "device = torch.device(\"cuda:0\" if torch.cuda.is_available() else \"cpu\")\n",
        "\n",
        "class_names, device"
      ],
      "metadata": {
        "colab": {
          "base_uri": "https://localhost:8080/"
        },
        "id": "hXMipuJwkYzD",
        "outputId": "0de7f26c-319b-4d1d-ece7-b8ba79ad7e72"
      },
      "execution_count": 6,
      "outputs": [
        {
          "output_type": "execute_result",
          "data": {
            "text/plain": [
              "(['blurry', 'exposed', 'good', 'noisy'], device(type='cuda', index=0))"
            ]
          },
          "metadata": {},
          "execution_count": 6
        }
      ]
    },
    {
      "cell_type": "code",
      "source": [
        "def train_model(model, criterion, optimizer, scheduler, num_epochs=25):\n",
        "    since = time.time()\n",
        "\n",
        "    # Create a temporary directory to save training checkpoints\n",
        "    with TemporaryDirectory() as tempdir:\n",
        "        best_model_params_path = os.path.join(tempdir, 'best_model_params.pt')\n",
        "\n",
        "        torch.save(model.state_dict(), best_model_params_path)\n",
        "        best_acc = 0.0\n",
        "\n",
        "        for epoch in range(num_epochs):\n",
        "            print(f'Epoch {epoch}/{num_epochs - 1}')\n",
        "            print('-' * 10)\n",
        "\n",
        "            # Each epoch has a training and validation phase\n",
        "            for phase in ['train', 'test']:\n",
        "                if phase == 'train':\n",
        "                    model.train()  # Set model to training mode\n",
        "                else:\n",
        "                    model.eval()   # Set model to evaluate mode\n",
        "\n",
        "                running_loss = 0.0\n",
        "                running_corrects = 0\n",
        "\n",
        "                # Iterate over data.\n",
        "                for inputs, labels in dataloaders[phase]:\n",
        "                    inputs = inputs.to(device)\n",
        "                    labels = labels.to(device)\n",
        "\n",
        "                    # zero the parameter gradients\n",
        "                    optimizer.zero_grad()\n",
        "\n",
        "                    # forward\n",
        "                    # track history if only in train\n",
        "                    with torch.set_grad_enabled(phase == 'train'):\n",
        "                        outputs = model(inputs)\n",
        "                        _, preds = torch.max(outputs, 1)\n",
        "                        loss = criterion(outputs, labels)\n",
        "\n",
        "                        # backward + optimize only if in training phase\n",
        "                        if phase == 'train':\n",
        "                            loss.backward()\n",
        "                            optimizer.step()\n",
        "\n",
        "                    # statistics\n",
        "                    running_loss += loss.item() * inputs.size(0)\n",
        "                    running_corrects += torch.sum(preds == labels.data)\n",
        "                if phase == 'train':\n",
        "                    scheduler.step()\n",
        "\n",
        "                epoch_loss = running_loss / dataset_sizes[phase]\n",
        "                epoch_acc = running_corrects.double() / dataset_sizes[phase]\n",
        "\n",
        "                print(f'{phase} Loss: {epoch_loss:.4f} Acc: {epoch_acc:.4f}')\n",
        "\n",
        "                # deep copy the model\n",
        "                if phase == 'test' and epoch_acc > best_acc:\n",
        "                    best_acc = epoch_acc\n",
        "                    torch.save(model.state_dict(), best_model_params_path)\n",
        "\n",
        "            print()\n",
        "\n",
        "        time_elapsed = time.time() - since\n",
        "        print(f'Training complete in {time_elapsed // 60:.0f}m {time_elapsed % 60:.0f}s')\n",
        "        print(f'Best test Acc: {best_acc:4f}')\n",
        "\n",
        "        # load best model weights\n",
        "        model.load_state_dict(torch.load(best_model_params_path))\n",
        "    return model"
      ],
      "metadata": {
        "id": "7cXUjTZ90orc"
      },
      "execution_count": 7,
      "outputs": []
    },
    {
      "cell_type": "code",
      "source": [
        "def visualize_model(model, num_images=6):\n",
        "    was_training = model.training\n",
        "    model.eval()\n",
        "    images_so_far = 0\n",
        "    fig = plt.figure()\n",
        "\n",
        "    with torch.no_grad():\n",
        "        for i, (inputs, labels) in enumerate(dataloaders['test']):\n",
        "            inputs = inputs.to(device)\n",
        "            labels = labels.to(device)\n",
        "\n",
        "            outputs = model(inputs)\n",
        "            _, preds = torch.max(outputs, 1)\n",
        "\n",
        "            for j in range(inputs.size()[0]):\n",
        "                images_so_far += 1\n",
        "                ax = plt.subplot(num_images//2, 2, images_so_far)\n",
        "                ax.axis('off')\n",
        "                ax.set_title(f'predicted: {class_names[preds[j]]}')\n",
        "                imshow(inputs.cpu().data[j])\n",
        "\n",
        "                if images_so_far == num_images:\n",
        "                    model.train(mode=was_training)\n",
        "                    return\n",
        "        model.train(mode=was_training)"
      ],
      "metadata": {
        "id": "Gi38_Gf82Ryb"
      },
      "execution_count": 8,
      "outputs": []
    },
    {
      "cell_type": "code",
      "source": [
        "model_ft = models.resnet18(weights='IMAGENET1K_V1')\n",
        "num_ftrs = model_ft.fc.in_features\n",
        "# Here the size of each output sample is set to 2.\n",
        "# Alternatively, it can be generalized to ``nn.Linear(num_ftrs, len(class_names))``.\n",
        "model_ft.fc = nn.Linear(num_ftrs, len(class_names))\n",
        "\n",
        "model_ft = model_ft.to(device)\n",
        "\n",
        "criterion = nn.CrossEntropyLoss()\n",
        "\n",
        "# Observe that all parameters are being optimized\n",
        "optimizer_ft = optim.SGD(model_ft.parameters(), lr=0.001, momentum=0.9)\n",
        "\n",
        "# Decay LR by a factor of 0.1 every 7 epochs\n",
        "exp_lr_scheduler = lr_scheduler.StepLR(optimizer_ft, step_size=7, gamma=0.1)"
      ],
      "metadata": {
        "id": "To2ItNoQ2ewI",
        "colab": {
          "base_uri": "https://localhost:8080/"
        },
        "outputId": "25688cf9-136d-4beb-f82f-9b453442710c"
      },
      "execution_count": 9,
      "outputs": [
        {
          "output_type": "stream",
          "name": "stderr",
          "text": [
            "Downloading: \"https://download.pytorch.org/models/resnet18-f37072fd.pth\" to /root/.cache/torch/hub/checkpoints/resnet18-f37072fd.pth\n",
            "100%|██████████| 44.7M/44.7M [00:00<00:00, 92.6MB/s]\n"
          ]
        }
      ]
    },
    {
      "cell_type": "code",
      "source": [
        "model_ft = train_model(model_ft, criterion, optimizer_ft, exp_lr_scheduler, num_epochs=25)"
      ],
      "metadata": {
        "colab": {
          "base_uri": "https://localhost:8080/"
        },
        "id": "WnCinsP52nUg",
        "outputId": "2ebcef79-342b-4a67-ed51-683102d24d40"
      },
      "execution_count": null,
      "outputs": [
        {
          "output_type": "stream",
          "name": "stdout",
          "text": [
            "Epoch 0/24\n",
            "----------\n",
            "train Loss: 1.3718 Acc: 0.3673\n",
            "test Loss: 1.2036 Acc: 0.4568\n",
            "\n",
            "Epoch 1/24\n",
            "----------\n",
            "train Loss: 1.3910 Acc: 0.4259\n",
            "test Loss: 1.0670 Acc: 0.5463\n",
            "\n",
            "Epoch 2/24\n",
            "----------\n",
            "train Loss: 1.2581 Acc: 0.4722\n",
            "test Loss: 1.2013 Acc: 0.4414\n",
            "\n",
            "Epoch 3/24\n",
            "----------\n",
            "train Loss: 1.1842 Acc: 0.5278\n",
            "test Loss: 1.2738 Acc: 0.4938\n",
            "\n",
            "Epoch 4/24\n",
            "----------\n",
            "train Loss: 1.3067 Acc: 0.5123\n",
            "test Loss: 1.4811 Acc: 0.5185\n",
            "\n",
            "Epoch 5/24\n",
            "----------\n"
          ]
        }
      ]
    },
    {
      "cell_type": "code",
      "source": [
        "def visualize_model_predictions(model,img_path):\n",
        "    was_training = model.training\n",
        "    model.eval()\n",
        "\n",
        "    img = Image.open(img_path)\n",
        "    img = data_transforms['test'](img)\n",
        "    img = img.unsqueeze(0)\n",
        "    img = img.to(device)\n",
        "\n",
        "    with torch.no_grad():\n",
        "        outputs = model(img)\n",
        "        _, preds = torch.max(outputs, 1)\n",
        "\n",
        "        # ax = plt.subplot(2,2,1)\n",
        "        # ax.axis('off')\n",
        "        # ax.set_title(f'Predicted: {class_names[preds[0]]}')\n",
        "        # plt.imshow(img.cpu().data[0])\n",
        "\n",
        "        model.train(mode=was_training)\n",
        "    return class_names[preds[0]]"
      ],
      "metadata": {
        "id": "udCYCmJV2qqg"
      },
      "execution_count": null,
      "outputs": []
    },
    {
      "cell_type": "code",
      "source": [
        "visualize_model_predictions(\n",
        "    model_ft,\n",
        "    img_path='/content/drive/MyDrive/Culling/dataset_v4/test/exposed/exposed1.png'\n",
        ")"
      ],
      "metadata": {
        "colab": {
          "base_uri": "https://localhost:8080/",
          "height": 35
        },
        "id": "vEajLHkd9Sd2",
        "outputId": "5646f745-e50a-45fe-a6d9-8f399ed7baad"
      },
      "execution_count": null,
      "outputs": [
        {
          "output_type": "execute_result",
          "data": {
            "text/plain": [
              "'exposed'"
            ],
            "application/vnd.google.colaboratory.intrinsic+json": {
              "type": "string"
            }
          },
          "metadata": {},
          "execution_count": 15
        }
      ]
    },
    {
      "cell_type": "code",
      "source": [
        "torch.save(model_ft, \"/content/drive/MyDrive/Culling/model_v3\")"
      ],
      "metadata": {
        "id": "GKDcIRfoB8wo"
      },
      "execution_count": null,
      "outputs": []
    },
    {
      "cell_type": "markdown",
      "source": [
        "our dataset isnt very good, upon manual checking\n",
        "i believe the model is pretty good"
      ],
      "metadata": {
        "id": "XdN_O-gaBWrH"
      }
    },
    {
      "cell_type": "code",
      "source": [
        "for i in os.listdir('/content/drive/MyDrive/Culling/dataset_v4/test/good'):\n",
        "  if (o:=visualize_model_predictions(model_ft, '/content/drive/MyDrive/Culling/dataset_v4/test/good/' + i)) != 'good':\n",
        "    print(o, i)"
      ],
      "metadata": {
        "colab": {
          "base_uri": "https://localhost:8080/"
        },
        "id": "oIpyxD3N9p_D",
        "outputId": "1fac30c5-a6f2-46d4-8661-7cf598a00a80"
      },
      "execution_count": null,
      "outputs": [
        {
          "output_type": "stream",
          "name": "stdout",
          "text": [
            "exposed good9.png\n",
            "exposed good12.png\n",
            "exposed good13.png\n",
            "exposed good27.png\n",
            "exposed good37.png\n",
            "noisy good39.png\n",
            "noisy good50.png\n",
            "noisy good54.png\n",
            "exposed good55.png\n",
            "exposed good58.png\n",
            "exposed good64.png\n",
            "exposed good65.png\n",
            "blurry good74.png\n",
            "exposed good90.png\n",
            "noisy good128.png\n",
            "exposed good131.png\n",
            "exposed good132.png\n",
            "exposed good133.png\n",
            "exposed good135.png\n",
            "exposed good136.png\n",
            "exposed good137.png\n",
            "noisy good142.png\n",
            "exposed good147.png\n",
            "exposed good153.png\n"
          ]
        }
      ]
    },
    {
      "cell_type": "code",
      "source": [
        "model_conv = torchvision.models.resnet18(weights='IMAGENET1K_V1')\n",
        "for param in model_conv.parameters():\n",
        "    param.requires_grad = False\n",
        "\n",
        "# Parameters of newly constructed modules have requires_grad=True by default\n",
        "num_ftrs = model_conv.fc.in_features\n",
        "model_conv.fc = nn.Linear(num_ftrs, len(class_names))\n",
        "\n",
        "model_conv = model_conv.to(device)\n",
        "\n",
        "criterion = nn.CrossEntropyLoss()\n",
        "\n",
        "# Observe that only parameters of final layer are being optimized as\n",
        "# opposed to before.\n",
        "optimizer_conv = optim.SGD(model_conv.fc.parameters(), lr=0.001, momentum=0.9)\n",
        "\n",
        "# Decay LR by a factor of 0.1 every 7 epochs\n",
        "exp_lr_scheduler = lr_scheduler.StepLR(optimizer_conv, step_size=7, gamma=0.1)"
      ],
      "metadata": {
        "id": "tHkp8ixL-Yb3"
      },
      "execution_count": null,
      "outputs": []
    },
    {
      "cell_type": "code",
      "source": [
        "model_conv = train_model(model_conv, criterion, optimizer_conv,\n",
        "                         exp_lr_scheduler, num_epochs=25)"
      ],
      "metadata": {
        "id": "EH1oYOe1A8Wz"
      },
      "execution_count": null,
      "outputs": []
    },
    {
      "cell_type": "code",
      "source": [
        "torch.save(model_conv, \"/content/drive/MyDrive/Culling/model_v4\")"
      ],
      "metadata": {
        "id": "w_QsZtlyhmyM"
      },
      "execution_count": null,
      "outputs": []
    },
    {
      "cell_type": "code",
      "source": [
        "culling_model = torch.load(\"/content/drive/MyDrive/Culling/modelv2\")"
      ],
      "metadata": {
        "id": "dJlCa0VzBBwl"
      },
      "execution_count": null,
      "outputs": []
    },
    {
      "cell_type": "code",
      "source": [
        "for i in os.listdir('/content/drive/MyDrive/Culling/dataset_v4/test/good'):\n",
        "  if (o:=visualize_model_predictions(culling_model, '/content/drive/MyDrive/Culling/dataset_v4/test/good/' + i)) != 'good':\n",
        "    print(o, i)"
      ],
      "metadata": {
        "colab": {
          "base_uri": "https://localhost:8080/"
        },
        "id": "_71L6azFDw47",
        "outputId": "def8f16e-5d9a-4eef-e071-9017ff900b65"
      },
      "execution_count": null,
      "outputs": [
        {
          "output_type": "stream",
          "name": "stdout",
          "text": [
            "exposed good9.png\n",
            "exposed good12.png\n",
            "exposed good13.png\n",
            "exposed good27.png\n",
            "exposed good37.png\n",
            "noisy good39.png\n",
            "noisy good50.png\n",
            "noisy good54.png\n",
            "exposed good55.png\n",
            "exposed good58.png\n",
            "exposed good64.png\n",
            "exposed good65.png\n",
            "blurry good74.png\n",
            "exposed good90.png\n",
            "noisy good128.png\n",
            "exposed good131.png\n",
            "exposed good132.png\n",
            "exposed good133.png\n",
            "exposed good135.png\n",
            "exposed good136.png\n",
            "exposed good137.png\n",
            "noisy good142.png\n",
            "exposed good147.png\n",
            "exposed good153.png\n"
          ]
        }
      ]
    },
    {
      "cell_type": "code",
      "source": [],
      "metadata": {
        "id": "74c5GVrZD2Il"
      },
      "execution_count": null,
      "outputs": []
    }
  ]
}